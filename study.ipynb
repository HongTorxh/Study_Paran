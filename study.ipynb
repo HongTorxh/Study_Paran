{
  "nbformat": 4,
  "nbformat_minor": 0,
  "metadata": {
    "colab": {
      "provenance": [],
      "collapsed_sections": [],
      "authorship_tag": "ABX9TyPP/tAxNYaFcRT+PUoIR5oC",
      "include_colab_link": true
    },
    "kernelspec": {
      "name": "python3",
      "display_name": "Python 3"
    },
    "language_info": {
      "name": "python"
    }
  },
  "cells": [
    {
      "cell_type": "markdown",
      "metadata": {
        "id": "view-in-github",
        "colab_type": "text"
      },
      "source": [
        "<a href=\"https://colab.research.google.com/github/HongTorxh/Study_Paran/blob/main/study.ipynb\" target=\"_parent\"><img src=\"https://colab.research.google.com/assets/colab-badge.svg\" alt=\"Open In Colab\"/></a>"
      ]
    },
    {
      "cell_type": "code",
      "execution_count": 42,
      "metadata": {
        "id": "YpXhLRN0P6fR",
        "outputId": "4726c1e7-bfbc-4b7b-cac0-b5cad2b2b263",
        "colab": {
          "base_uri": "https://localhost:8080/"
        }
      },
      "outputs": [
        {
          "output_type": "stream",
          "name": "stdout",
          "text": [
            "LOADING PACAKGE\n"
          ]
        }
      ],
      "source": [
        "import numpy as np\n",
        "print(\"LOADING PACAKGE\")"
      ]
    },
    {
      "cell_type": "code",
      "source": [
        "np"
      ],
      "metadata": {
        "colab": {
          "base_uri": "https://localhost:8080/"
        },
        "id": "bjVwG3fitbdm",
        "outputId": "f592aa4f-560b-4910-fa98-d3cb90026add"
      },
      "execution_count": null,
      "outputs": [
        {
          "output_type": "execute_result",
          "data": {
            "text/plain": [
              "<module 'numpy' from '/usr/local/lib/python3.7/dist-packages/numpy/__init__.py'>"
            ]
          },
          "metadata": {},
          "execution_count": 2
        }
      ]
    },
    {
      "cell_type": "code",
      "source": [
        "print(\"Hello, world\")"
      ],
      "metadata": {
        "colab": {
          "base_uri": "https://localhost:8080/"
        },
        "id": "Wza0GZPItfQj",
        "outputId": "a027b9e6-011d-483d-8b94-8a942b17da6d"
      },
      "execution_count": null,
      "outputs": [
        {
          "output_type": "stream",
          "name": "stdout",
          "text": [
            "Hello, world\n"
          ]
        }
      ]
    },
    {
      "cell_type": "markdown",
      "source": [
        "[링크 텍스트](https://)"
      ],
      "metadata": {
        "id": "s6xXKClztmwk"
      }
    },
    {
      "cell_type": "code",
      "source": [
        "x = 3\n",
        "print (\"Integer : %01d, %02d, %03d, %04d, %05d\" % (x,x,x,x,x))\n",
        "\n",
        "x = 123.456;\n",
        "print (\"Float : %.0f, %.1f, %.2f, %1.2f %2.2f\" % (x, x, x, x, x))\n",
        "\n",
        "x = \"Hello, world\"\n",
        "print (\"String: [%s], [%3s], [%20s]\" % (x,x,x)) "
      ],
      "metadata": {
        "colab": {
          "base_uri": "https://localhost:8080/"
        },
        "id": "b02vW8rkOI4o",
        "outputId": "b4d63d72-9992-448a-f310-7acadbf293d8"
      },
      "execution_count": null,
      "outputs": [
        {
          "output_type": "stream",
          "name": "stdout",
          "text": [
            "Integer : 3, 03, 003, 0003, 00003\n",
            "Float : 123, 123.5, 123.46, 123.46 123.46\n",
            "String: [Hello, world], [Hello, world], [        Hello, world]\n"
          ]
        }
      ]
    },
    {
      "cell_type": "code",
      "source": [
        "dlmethods = [\"ANN\", \"MLP\", \"CNN\", \"RNN\", \"DAE\"]\n",
        "for alg in dlmethods:\n",
        "  print (\"[%s]\" % alg)"
      ],
      "metadata": {
        "colab": {
          "base_uri": "https://localhost:8080/"
        },
        "id": "xtqCZWh9PCLO",
        "outputId": "91a3bfa1-9462-4349-f1d4-4bce5377fb58"
      },
      "execution_count": null,
      "outputs": [
        {
          "output_type": "stream",
          "name": "stdout",
          "text": [
            "[ANN]\n",
            "[MLP]\n",
            "[CNN]\n",
            "[RNN]\n",
            "[DAE]\n"
          ]
        }
      ]
    },
    {
      "cell_type": "code",
      "source": [
        "dlmethods = [\"ANN\", \"MLP\", \"CNN\", \"RNN\", \"DAE\"]\n",
        "for alg in dlmethods:\n",
        "    if alg in [\"ANN\", \"MLP\", \"CNN\"]:\n",
        "        print (\"[%s] is a feed-forward network.\" % (alg))\n",
        "    elif alg in [\"RNN\"]:\n",
        "        print (\"[%s] is a recurrent network.\" % (alg))\n",
        "    else:\n",
        "        print(\"[%s] is an unsupervised method\" % (alg))"
      ],
      "metadata": {
        "id": "lJuZE2ihSfWF",
        "colab": {
          "base_uri": "https://localhost:8080/"
        },
        "outputId": "54fadf11-9047-413a-9031-97de32c5dc07"
      },
      "execution_count": 1,
      "outputs": [
        {
          "output_type": "stream",
          "name": "stdout",
          "text": [
            "[ANN] is a feed-forward network.\n",
            "[MLP] is a feed-forward network.\n",
            "[CNN] is a feed-forward network.\n",
            "[RNN] is a recurrent network.\n",
            "[DAE] is an unsupervised method\n"
          ]
        }
      ]
    },
    {
      "cell_type": "code",
      "source": [
        "def sum(a,b):\n",
        "    return a+b\n",
        "print (\"FUNCTION DEFINED.\")"
      ],
      "metadata": {
        "colab": {
          "base_uri": "https://localhost:8080/"
        },
        "id": "HDKiRi8jfXqp",
        "outputId": "fdb200db-3fe6-4365-ee35-ae7b60f60501"
      },
      "execution_count": 5,
      "outputs": [
        {
          "output_type": "stream",
          "name": "stdout",
          "text": [
            "FUNCTION DEFINED.\n"
          ]
        }
      ]
    },
    {
      "cell_type": "code",
      "source": [
        "a = 10\n",
        "b = 20\n",
        "print (\" [%d] + [%d] is [%d]\" % (a,b, sum(a,b)))"
      ],
      "metadata": {
        "id": "g17uLm1MffZP"
      },
      "execution_count": null,
      "outputs": []
    },
    {
      "cell_type": "code",
      "source": [
        "print (sum('a','b'))\n",
        "# 타입이 x, + 연산자를 쓸 수 있는 모든게 들어와도 됨"
      ],
      "metadata": {
        "colab": {
          "base_uri": "https://localhost:8080/"
        },
        "id": "7h5cHCmQf7kH",
        "outputId": "da838c1e-e1b4-42d3-e402-f0af76933098"
      },
      "execution_count": 9,
      "outputs": [
        {
          "output_type": "stream",
          "name": "stdout",
          "text": [
            "ab\n"
          ]
        }
      ]
    },
    {
      "cell_type": "code",
      "source": [
        "head = \"DEEP LEARNING\"\n",
        "body = \"VERY \"\n",
        "tail = \"EXCITING.\"\n",
        "print (head + \" IS \" + body + tail)\n",
        "print (head + \" IS \" + body*10 + tail)"
      ],
      "metadata": {
        "colab": {
          "base_uri": "https://localhost:8080/"
        },
        "id": "7DiLE04jfvgV",
        "outputId": "c4889003-f7fd-4ba2-c27d-fbc06243e195"
      },
      "execution_count": 10,
      "outputs": [
        {
          "output_type": "stream",
          "name": "stdout",
          "text": [
            "DEEP LEARNING IS VERY EXCITING.\n",
            "DEEP LEARNING IS VERY VERY VERY VERY VERY VERY VERY VERY VERY VERY EXCITING.\n"
          ]
        }
      ]
    },
    {
      "cell_type": "code",
      "source": [
        "a = []\n",
        "print (\"a: [%s], TYPE IS [%s]\" % (a, type(a)))"
      ],
      "metadata": {
        "colab": {
          "base_uri": "https://localhost:8080/"
        },
        "id": "9DMcqoyef4Bs",
        "outputId": "e70e4ab1-e076-4866-9021-e8c114628696"
      },
      "execution_count": 11,
      "outputs": [
        {
          "output_type": "stream",
          "name": "stdout",
          "text": [
            "a: [[]], TYPE IS [<class 'list'>]\n"
          ]
        }
      ]
    },
    {
      "cell_type": "code",
      "source": [
        "b = [1, 2, 3]\n",
        "c = ['x', 'y', 'z']\n",
        "d = [b,c]\n",
        "print(b)\n",
        "print(c)\n",
        "print(d)"
      ],
      "metadata": {
        "colab": {
          "base_uri": "https://localhost:8080/"
        },
        "id": "EAkeyOwXgZ8S",
        "outputId": "b8621d62-6a8f-47eb-fe3b-6605f246b795"
      },
      "execution_count": 13,
      "outputs": [
        {
          "output_type": "stream",
          "name": "stdout",
          "text": [
            "[1, 2, 3]\n",
            "['x', 'y', 'z']\n",
            "[[1, 2, 3], ['x', 'y', 'z']]\n"
          ]
        }
      ]
    },
    {
      "cell_type": "code",
      "source": [
        "a = ['a', 'b', 'c']\n",
        "for aval in a:\n",
        "  print(aval)"
      ],
      "metadata": {
        "colab": {
          "base_uri": "https://localhost:8080/"
        },
        "id": "hiqd4gRCglwr",
        "outputId": "0d2f176a-f208-4449-990b-9e0eb234fa20"
      },
      "execution_count": 16,
      "outputs": [
        {
          "output_type": "stream",
          "name": "stdout",
          "text": [
            "a\n",
            "b\n",
            "c\n"
          ]
        }
      ]
    },
    {
      "cell_type": "code",
      "source": [
        "b = []\n",
        "for aidx in range(len(a)):\n",
        "  b.append(a[aidx])\n",
        "print(b)"
      ],
      "metadata": {
        "colab": {
          "base_uri": "https://localhost:8080/"
        },
        "id": "PivlP_Erg5nW",
        "outputId": "bb27a9cc-f24b-4650-fd02-526dec6fad6c"
      },
      "execution_count": 17,
      "outputs": [
        {
          "output_type": "stream",
          "name": "stdout",
          "text": [
            "['a', 'b', 'c']\n"
          ]
        }
      ]
    },
    {
      "cell_type": "code",
      "source": [
        "a = dict()\n",
        "a['name'] = 'SungHwa'\n",
        "a['jab'] = 'Student'\n",
        "print(a)"
      ],
      "metadata": {
        "id": "lrL8JiryglsN"
      },
      "execution_count": null,
      "outputs": []
    },
    {
      "cell_type": "code",
      "source": [
        "b = {'name' : 'hong', 'job' : \"Student\" }\n",
        "print(b)"
      ],
      "metadata": {
        "colab": {
          "base_uri": "https://localhost:8080/"
        },
        "id": "vDClfc2EhS9a",
        "outputId": "c27d2d9e-7ed0-4126-b5cf-bd5c99723969"
      },
      "execution_count": 18,
      "outputs": [
        {
          "output_type": "stream",
          "name": "stdout",
          "text": [
            "{'name': 'hong', 'job': 'Student'}\n"
          ]
        }
      ]
    },
    {
      "cell_type": "code",
      "source": [
        "b['age'] = 32\n",
        "print(b)\n",
        "# age 추가 방법"
      ],
      "metadata": {
        "colab": {
          "base_uri": "https://localhost:8080/"
        },
        "id": "M-7R2wVHhyTY",
        "outputId": "216748aa-44cc-4143-e053-23c56bca8b17"
      },
      "execution_count": 20,
      "outputs": [
        {
          "output_type": "stream",
          "name": "stdout",
          "text": [
            "{'name': 'hong', 'job': 'Student', 'age': 32}\n"
          ]
        }
      ]
    },
    {
      "cell_type": "code",
      "source": [
        "print ('NAME IS [%s]' % (b['name']))\n",
        "print ('JOB IS [%s]' % (b['job']))"
      ],
      "metadata": {
        "colab": {
          "base_uri": "https://localhost:8080/"
        },
        "id": "Ka5GYWs6hnUi",
        "outputId": "5de29171-543a-4555-f11a-de89229867c0"
      },
      "execution_count": 19,
      "outputs": [
        {
          "output_type": "stream",
          "name": "stdout",
          "text": [
            "NAME IS [hong]\n",
            "JOB IS [Student]\n"
          ]
        }
      ]
    },
    {
      "cell_type": "code",
      "source": [
        "class foo:\n",
        "  def __init__(self, name):\n",
        "    # class 초기화\n",
        "    # class는 항상 첫번째 argument로 class를 받는다.\n",
        "    # 문법이니 지켜야된다.\n",
        "    self.name = name\n",
        "    print(\"HELLO, [%s]\" % (self.name))\n",
        "  def boo(self, loud=False):\n",
        "    if loud:\n",
        "      print(\"BOO [%s]\" % (self.name.upper()))\n",
        "    else:\n",
        "      print(\"boo [%s]\" % (self.name))\n",
        "print(\"CLASS DEFINED.\")"
      ],
      "metadata": {
        "colab": {
          "base_uri": "https://localhost:8080/"
        },
        "id": "qDILq5jph5-N",
        "outputId": "800bf528-0e84-4349-efe1-ba974f16c9ad"
      },
      "execution_count": 29,
      "outputs": [
        {
          "output_type": "stream",
          "name": "stdout",
          "text": [
            "CLASS DEFINED.\n"
          ]
        }
      ]
    },
    {
      "cell_type": "code",
      "source": [
        "f = foo('SungHwa')"
      ],
      "metadata": {
        "colab": {
          "base_uri": "https://localhost:8080/"
        },
        "id": "kBnCEIcBiSqi",
        "outputId": "c8bfee8a-f6ef-49e8-cfbc-ea408560ddc7"
      },
      "execution_count": 33,
      "outputs": [
        {
          "output_type": "stream",
          "name": "stdout",
          "text": [
            "HELLO, [SungHwa]\n"
          ]
        }
      ]
    },
    {
      "cell_type": "code",
      "source": [
        "f.name"
      ],
      "metadata": {
        "colab": {
          "base_uri": "https://localhost:8080/",
          "height": 36
        },
        "id": "DBAjaQTLitct",
        "outputId": "5f48acaf-4cd7-4f8e-dd47-9cc0d863dc5d"
      },
      "execution_count": 24,
      "outputs": [
        {
          "output_type": "execute_result",
          "data": {
            "text/plain": [
              "'SungHwa'"
            ],
            "application/vnd.google.colaboratory.intrinsic+json": {
              "type": "string"
            }
          },
          "metadata": {},
          "execution_count": 24
        }
      ]
    },
    {
      "cell_type": "code",
      "source": [
        "f.boo()"
      ],
      "metadata": {
        "colab": {
          "base_uri": "https://localhost:8080/"
        },
        "id": "dmC4e25RilR8",
        "outputId": "8c5a8c49-a88c-4545-c50a-1577732e8775"
      },
      "execution_count": 34,
      "outputs": [
        {
          "output_type": "stream",
          "name": "stdout",
          "text": [
            "boo [SungHwa]\n"
          ]
        }
      ]
    },
    {
      "cell_type": "code",
      "source": [
        "f.boo(loud=True)"
      ],
      "metadata": {
        "colab": {
          "base_uri": "https://localhost:8080/"
        },
        "id": "c2vNpSdMinUx",
        "outputId": "0f7e3d5f-13dc-4d27-fe87-cabb9a03f5df"
      },
      "execution_count": 35,
      "outputs": [
        {
          "output_type": "stream",
          "name": "stdout",
          "text": [
            "BOO [SUNGHWA]\n"
          ]
        }
      ]
    },
    {
      "cell_type": "code",
      "source": [
        "def print_np(x):\n",
        "  print(\"(1) Type is %s\" % (type(x)))\n",
        "  print(\"(2) Shape is %s\" % (x.shape,))\n",
        "  print(\"(3) Values are: \\n%s\" % (x))\n",
        "  print()"
      ],
      "metadata": {
        "id": "Q7HnQe8bjhKi"
      },
      "execution_count": 39,
      "outputs": []
    },
    {
      "cell_type": "code",
      "source": [
        "x = np.array([1,2,3])\n",
        "print_np(x)\n",
        "# 기본적으로 numpy는 행렬을 다룬다.\n",
        "# 행렬은 rank라는 개념이 들어감.\n",
        "# 백터는 일반적으로 rank1 array라고 부름.\n",
        "# 두방향으로 커질 수 있는 것을 rank2 array라고 부름.\n",
        "# rank >= 3 : tesnor"
      ],
      "metadata": {
        "colab": {
          "base_uri": "https://localhost:8080/"
        },
        "id": "sfwuqMCgjzqW",
        "outputId": "e241d3b2-910a-441f-82bd-d24e9dd0fe6b"
      },
      "execution_count": 43,
      "outputs": [
        {
          "output_type": "stream",
          "name": "stdout",
          "text": [
            "(1) Type is <class 'numpy.ndarray'>\n",
            "(2) Shape is (3,)\n",
            "(3) Values are: \n",
            "[1 2 3]\n",
            "\n"
          ]
        }
      ]
    },
    {
      "cell_type": "code",
      "source": [
        "x[0] = 5\n",
        "print_np(x)"
      ],
      "metadata": {
        "colab": {
          "base_uri": "https://localhost:8080/"
        },
        "id": "NOvigGclkK9k",
        "outputId": "a222c907-c3c8-4434-ff79-bd73fba5bc11"
      },
      "execution_count": 44,
      "outputs": [
        {
          "output_type": "stream",
          "name": "stdout",
          "text": [
            "(1) Type is <class 'numpy.ndarray'>\n",
            "(2) Shape is (3,)\n",
            "(3) Values are: \n",
            "[5 2 3]\n",
            "\n"
          ]
        }
      ]
    },
    {
      "cell_type": "code",
      "source": [
        "y = np.array([[1,2,3], [4,5,6]])\n",
        "print_np(y)\n",
        "# Shape에 있는 숫자의 갯수가 rank를 뜻함"
      ],
      "metadata": {
        "colab": {
          "base_uri": "https://localhost:8080/"
        },
        "id": "A4j8RbVKlW_Y",
        "outputId": "ef5be6ce-d1e7-4106-908e-05b182ebd55f"
      },
      "execution_count": 46,
      "outputs": [
        {
          "output_type": "stream",
          "name": "stdout",
          "text": [
            "(1) Type is <class 'numpy.ndarray'>\n",
            "(2) Shape is (2, 3)\n",
            "(3) Values are: \n",
            "[[1 2 3]\n",
            " [4 5 6]]\n",
            "\n"
          ]
        }
      ]
    },
    {
      "cell_type": "code",
      "source": [
        "a = np.zeros((3,2))\n",
        "print_np(a)\n",
        "# 초기화를 다 0으로 주는 방법\n",
        "# 3,2 짜리를 0으로 초기화한 것"
      ],
      "metadata": {
        "colab": {
          "base_uri": "https://localhost:8080/"
        },
        "id": "SBZ2Av3Zluy2",
        "outputId": "e44cb764-35b6-46a6-b596-650d1d22872a"
      },
      "execution_count": 47,
      "outputs": [
        {
          "output_type": "stream",
          "name": "stdout",
          "text": [
            "(1) Type is <class 'numpy.ndarray'>\n",
            "(2) Shape is (3, 2)\n",
            "(3) Values are: \n",
            "[[0. 0.]\n",
            " [0. 0.]\n",
            " [0. 0.]]\n",
            "\n"
          ]
        }
      ]
    },
    {
      "cell_type": "code",
      "source": [
        "b = np.ones((1,2))\n",
        "print_np(b)\n",
        "# 1로 초기화하는 방법"
      ],
      "metadata": {
        "colab": {
          "base_uri": "https://localhost:8080/"
        },
        "id": "l671EIeAl2TF",
        "outputId": "555daa3a-94cc-4076-9a36-4e9547eafcb2"
      },
      "execution_count": 48,
      "outputs": [
        {
          "output_type": "stream",
          "name": "stdout",
          "text": [
            "(1) Type is <class 'numpy.ndarray'>\n",
            "(2) Shape is (1, 2)\n",
            "(3) Values are: \n",
            "[[1. 1.]]\n",
            "\n"
          ]
        }
      ]
    },
    {
      "cell_type": "code",
      "source": [
        "c = np.eye(3,3)\n",
        "print_np(c)\n",
        "# identity , 단위 행렬을 만들어주는 방법."
      ],
      "metadata": {
        "colab": {
          "base_uri": "https://localhost:8080/"
        },
        "id": "AcqtcJhkmGex",
        "outputId": "fa3316b2-8d92-45c5-ee90-13c4febbff62"
      },
      "execution_count": 49,
      "outputs": [
        {
          "output_type": "stream",
          "name": "stdout",
          "text": [
            "(1) Type is <class 'numpy.ndarray'>\n",
            "(2) Shape is (3, 3)\n",
            "(3) Values are: \n",
            "[[1. 0. 0.]\n",
            " [0. 1. 0.]\n",
            " [0. 0. 1.]]\n",
            "\n"
          ]
        }
      ]
    },
    {
      "cell_type": "code",
      "source": [
        "d = np.random.random((2,2))\n",
        "print_np(d)\n",
        "# 초기화 하는데, 0~1사이에 값으로 초기화"
      ],
      "metadata": {
        "colab": {
          "base_uri": "https://localhost:8080/"
        },
        "id": "HkXrA2qwmOql",
        "outputId": "e5ae8006-c5ae-4a36-a18e-d3d52ccd613f"
      },
      "execution_count": 52,
      "outputs": [
        {
          "output_type": "stream",
          "name": "stdout",
          "text": [
            "(1) Type is <class 'numpy.ndarray'>\n",
            "(2) Shape is (2, 2)\n",
            "(3) Values are: \n",
            "[[0.84795741 0.3683636 ]\n",
            " [0.29175804 0.47197358]]\n",
            "\n"
          ]
        }
      ]
    },
    {
      "cell_type": "code",
      "source": [
        "e = np.random.randn(1,5)\n",
        "print_np(e)\n",
        "# random.randn() 함수는 표준정규분포로부터 샘플링된 난수를 반환."
      ],
      "metadata": {
        "colab": {
          "base_uri": "https://localhost:8080/"
        },
        "id": "8b8PTnh9mUmF",
        "outputId": "ebf1c1d9-5903-4d4c-8900-863d89d12f84"
      },
      "execution_count": 53,
      "outputs": [
        {
          "output_type": "stream",
          "name": "stdout",
          "text": [
            "(1) Type is <class 'numpy.ndarray'>\n",
            "(2) Shape is (1, 5)\n",
            "(3) Values are: \n",
            "[[-0.73824583 -0.20561281  1.63714905 -0.30770532 -1.22719426]]\n",
            "\n"
          ]
        }
      ]
    },
    {
      "cell_type": "code",
      "source": [
        "a = np.array([[1,2,3,4], [5,6,7,8] , [9,10,11,12]])\n",
        "print_np(a)"
      ],
      "metadata": {
        "colab": {
          "base_uri": "https://localhost:8080/"
        },
        "id": "wkgLEv7im2J_",
        "outputId": "1808e170-8d25-4bf9-f77a-7520e8fd7bc0"
      },
      "execution_count": 54,
      "outputs": [
        {
          "output_type": "stream",
          "name": "stdout",
          "text": [
            "(1) Type is <class 'numpy.ndarray'>\n",
            "(2) Shape is (3, 4)\n",
            "(3) Values are: \n",
            "[[ 1  2  3  4]\n",
            " [ 5  6  7  8]\n",
            " [ 9 10 11 12]]\n",
            "\n"
          ]
        }
      ]
    },
    {
      "cell_type": "code",
      "source": [
        "b = a[:2, 1:3]\n",
        "print_np(b)"
      ],
      "metadata": {
        "colab": {
          "base_uri": "https://localhost:8080/"
        },
        "id": "1HL6cRakm8qD",
        "outputId": "49504e5f-0553-4bbe-b7cc-c26125d78955"
      },
      "execution_count": 55,
      "outputs": [
        {
          "output_type": "stream",
          "name": "stdout",
          "text": [
            "(1) Type is <class 'numpy.ndarray'>\n",
            "(2) Shape is (2, 2)\n",
            "(3) Values are: \n",
            "[[2 3]\n",
            " [6 7]]\n",
            "\n"
          ]
        }
      ]
    },
    {
      "cell_type": "code",
      "source": [
        "row_r1 = a[1, :]\n",
        "# 한줄을 가져온다고 명시하면 Rank1을 가져옴\n",
        "row_r2 = a[1:2, :]\n",
        "# 이렇게 하거나\n",
        "row_r3 = a[[1], :]\n",
        "# 요렇게 하면 rank2를 가져옴"
      ],
      "metadata": {
        "id": "W_WYCfp0nK0Y"
      },
      "execution_count": 56,
      "outputs": []
    },
    {
      "cell_type": "code",
      "source": [
        "print_np(row_r1)\n",
        "print_np(row_r2)\n",
        "print_np(row_r3)"
      ],
      "metadata": {
        "colab": {
          "base_uri": "https://localhost:8080/"
        },
        "id": "jLtv2D8snVPp",
        "outputId": "4b548ed9-e2e6-4341-b6a0-9b98bf8d14d2"
      },
      "execution_count": 57,
      "outputs": [
        {
          "output_type": "stream",
          "name": "stdout",
          "text": [
            "(1) Type is <class 'numpy.ndarray'>\n",
            "(2) Shape is (4,)\n",
            "(3) Values are: \n",
            "[5 6 7 8]\n",
            "\n",
            "(1) Type is <class 'numpy.ndarray'>\n",
            "(2) Shape is (1, 4)\n",
            "(3) Values are: \n",
            "[[5 6 7 8]]\n",
            "\n",
            "(1) Type is <class 'numpy.ndarray'>\n",
            "(2) Shape is (1, 4)\n",
            "(3) Values are: \n",
            "[[5 6 7 8]]\n",
            "\n"
          ]
        }
      ]
    },
    {
      "cell_type": "code",
      "source": [
        "x = np.array([1,2])\n",
        "y = np.array([1.0, 2.0])\n",
        "z = np.array([1,2], dtype=np.int64)\n",
        "# z에서 datatype을 선언해줄 수도 있다.\n",
        "print(x)\n",
        "print(y)\n",
        "print(z)"
      ],
      "metadata": {
        "colab": {
          "base_uri": "https://localhost:8080/"
        },
        "id": "RXyouU-7oMSQ",
        "outputId": "09f4e578-50f7-4dd5-db1f-079237c5b1f0"
      },
      "execution_count": 61,
      "outputs": [
        {
          "output_type": "stream",
          "name": "stdout",
          "text": [
            "[1 2]\n",
            "[1. 2.]\n",
            "[1 2]\n"
          ]
        }
      ]
    },
    {
      "cell_type": "code",
      "source": [
        "y2 = y.astype(np.int64)\n",
        "print_np(y2)\n",
        "# typecasting"
      ],
      "metadata": {
        "colab": {
          "base_uri": "https://localhost:8080/"
        },
        "id": "XaaUZov8q5U1",
        "outputId": "8b542376-f65b-45f9-fab6-f8cf241256c2"
      },
      "execution_count": 62,
      "outputs": [
        {
          "output_type": "stream",
          "name": "stdout",
          "text": [
            "(1) Type is <class 'numpy.ndarray'>\n",
            "(2) Shape is (2,)\n",
            "(3) Values are: \n",
            "[1 2]\n",
            "\n"
          ]
        }
      ]
    },
    {
      "cell_type": "code",
      "source": [
        "x = np.array([[1,2], [3,4]], dtype=np.float64)\n",
        "y = np.array([[5,6], [7,8]], dtype=np.float64)\n",
        "print_np(x)\n",
        "print_np(y)"
      ],
      "metadata": {
        "colab": {
          "base_uri": "https://localhost:8080/"
        },
        "id": "lRYBFsGwrFD6",
        "outputId": "47a38b14-0734-47ec-8583-259f05286260"
      },
      "execution_count": 64,
      "outputs": [
        {
          "output_type": "stream",
          "name": "stdout",
          "text": [
            "(1) Type is <class 'numpy.ndarray'>\n",
            "(2) Shape is (2, 2)\n",
            "(3) Values are: \n",
            "[[1. 2.]\n",
            " [3. 4.]]\n",
            "\n",
            "(1) Type is <class 'numpy.ndarray'>\n",
            "(2) Shape is (2, 2)\n",
            "(3) Values are: \n",
            "[[5. 6.]\n",
            " [7. 8.]]\n",
            "\n"
          ]
        }
      ]
    },
    {
      "cell_type": "code",
      "source": [
        "print(x+y)\n",
        "print(np.add(x,y))"
      ],
      "metadata": {
        "colab": {
          "base_uri": "https://localhost:8080/"
        },
        "id": "umvJWSdzrYCe",
        "outputId": "8540e128-735f-4ad4-960c-25e7a56dea0c"
      },
      "execution_count": 65,
      "outputs": [
        {
          "output_type": "stream",
          "name": "stdout",
          "text": [
            "[[ 6.  8.]\n",
            " [10. 12.]]\n",
            "[[ 6.  8.]\n",
            " [10. 12.]]\n"
          ]
        }
      ]
    },
    {
      "cell_type": "code",
      "source": [
        "print(x-y)\n",
        "print(np.subtract(x,y))"
      ],
      "metadata": {
        "colab": {
          "base_uri": "https://localhost:8080/"
        },
        "id": "loZ4M-MOrcnl",
        "outputId": "4f8c473c-02d7-4a18-c889-8a611c22f534"
      },
      "execution_count": 66,
      "outputs": [
        {
          "output_type": "stream",
          "name": "stdout",
          "text": [
            "[[-4. -4.]\n",
            " [-4. -4.]]\n",
            "[[-4. -4.]\n",
            " [-4. -4.]]\n"
          ]
        }
      ]
    },
    {
      "cell_type": "code",
      "source": [
        "print(x/y)\n",
        "print(np.divide(x,y))"
      ],
      "metadata": {
        "colab": {
          "base_uri": "https://localhost:8080/"
        },
        "id": "rfvljWAArjoG",
        "outputId": "48c20cba-252d-4bc4-8ad2-bc91e24f20ef"
      },
      "execution_count": 67,
      "outputs": [
        {
          "output_type": "stream",
          "name": "stdout",
          "text": [
            "[[0.2        0.33333333]\n",
            " [0.42857143 0.5       ]]\n",
            "[[0.2        0.33333333]\n",
            " [0.42857143 0.5       ]]\n"
          ]
        }
      ]
    },
    {
      "cell_type": "code",
      "source": [
        "x = np.array([[1,2], [3,4]])\n",
        "y = np.array([[5,6], [7,8]])\n",
        "v = np.array([9,10])\n",
        "w = np.array([11,12])\n",
        "\n",
        "print_np(x)\n",
        "print_np(y)\n",
        "print_np(v)\n",
        "print_np(w)"
      ],
      "metadata": {
        "colab": {
          "base_uri": "https://localhost:8080/"
        },
        "id": "Q1gRYTr3rujK",
        "outputId": "adc02931-a188-4f24-eb42-33abf28f8b40"
      },
      "execution_count": 68,
      "outputs": [
        {
          "output_type": "stream",
          "name": "stdout",
          "text": [
            "(1) Type is <class 'numpy.ndarray'>\n",
            "(2) Shape is (2, 2)\n",
            "(3) Values are: \n",
            "[[1 2]\n",
            " [3 4]]\n",
            "\n",
            "(1) Type is <class 'numpy.ndarray'>\n",
            "(2) Shape is (2, 2)\n",
            "(3) Values are: \n",
            "[[5 6]\n",
            " [7 8]]\n",
            "\n",
            "(1) Type is <class 'numpy.ndarray'>\n",
            "(2) Shape is (2,)\n",
            "(3) Values are: \n",
            "[ 9 10]\n",
            "\n",
            "(1) Type is <class 'numpy.ndarray'>\n",
            "(2) Shape is (2,)\n",
            "(3) Values are: \n",
            "[11 12]\n",
            "\n"
          ]
        }
      ]
    },
    {
      "cell_type": "code",
      "source": [
        "print(v.dot(w))\n",
        "print(np.dot(v,w))\n",
        "# 내적"
      ],
      "metadata": {
        "colab": {
          "base_uri": "https://localhost:8080/"
        },
        "id": "r4VHbEuysPI3",
        "outputId": "6c636584-86c5-48ca-b53b-3a1c82b75929"
      },
      "execution_count": 69,
      "outputs": [
        {
          "output_type": "stream",
          "name": "stdout",
          "text": [
            "219\n",
            "219\n"
          ]
        }
      ]
    },
    {
      "cell_type": "code",
      "source": [
        "y = np.empty_like(x)\n",
        "print_np(x)\n",
        "print_np(y)\n",
        "# x와 크기가 동일하며, 특정한 값으로 초기화 하지 않은 배열 선언\n"
      ],
      "metadata": {
        "colab": {
          "base_uri": "https://localhost:8080/"
        },
        "id": "WsraQ5uJskN6",
        "outputId": "3e204c5a-554b-457f-905f-2c03dfd1e431"
      },
      "execution_count": 103,
      "outputs": [
        {
          "output_type": "stream",
          "name": "stdout",
          "text": [
            "(1) Type is <class 'numpy.ndarray'>\n",
            "(2) Shape is (2, 2)\n",
            "(3) Values are: \n",
            "[[0 1]\n",
            " [2 3]]\n",
            "\n",
            "(1) Type is <class 'numpy.ndarray'>\n",
            "(2) Shape is (2, 2)\n",
            "(3) Values are: \n",
            "[[100   1]\n",
            " [  2   3]]\n",
            "\n"
          ]
        }
      ]
    },
    {
      "cell_type": "code",
      "source": [
        "x = np.array([[0,1], [2,3]])\n",
        "print(x)\n",
        "# 파이썬은 기본적으로 call by reference"
      ],
      "metadata": {
        "colab": {
          "base_uri": "https://localhost:8080/"
        },
        "id": "Wqp97DJzteJL",
        "outputId": "163908cf-8968-44ce-bd76-978b90522189"
      },
      "execution_count": 94,
      "outputs": [
        {
          "output_type": "stream",
          "name": "stdout",
          "text": [
            "[[0 1]\n",
            " [2 3]]\n"
          ]
        }
      ]
    },
    {
      "cell_type": "code",
      "source": [
        "z = np.empty_like(x)\n",
        "print(z)"
      ],
      "metadata": {
        "colab": {
          "base_uri": "https://localhost:8080/"
        },
        "id": "pW-eRJhYtkxm",
        "outputId": "dd72b879-6e90-473b-8a86-2d9f01678ea1"
      },
      "execution_count": 107,
      "outputs": [
        {
          "output_type": "stream",
          "name": "stdout",
          "text": [
            "[[0 1]\n",
            " [2 3]]\n"
          ]
        }
      ]
    },
    {
      "cell_type": "code",
      "source": [
        "z[0, 0] = 100\n",
        "print(z)\n",
        "print(x)\n",
        "# x에 대하여 수정한 부분이 없지만, x가 바뀌어 있음"
      ],
      "metadata": {
        "colab": {
          "base_uri": "https://localhost:8080/"
        },
        "id": "0o8YbH4utnCW",
        "outputId": "04a7bbb6-94d1-4c23-f413-bc5cd28133ac"
      },
      "execution_count": 101,
      "outputs": [
        {
          "output_type": "stream",
          "name": "stdout",
          "text": [
            "[[100   1]\n",
            " [  2   3]]\n",
            "[[0 1]\n",
            " [2 3]]\n"
          ]
        }
      ]
    },
    {
      "cell_type": "code",
      "source": [
        "v = np.array([0,1,2,3,4])\n",
        "print_np(v)"
      ],
      "metadata": {
        "colab": {
          "base_uri": "https://localhost:8080/"
        },
        "id": "TCZSO7nzuTMU",
        "outputId": "83c7ee40-5a50-4702-8fe2-9131999b74ef"
      },
      "execution_count": 108,
      "outputs": [
        {
          "output_type": "stream",
          "name": "stdout",
          "text": [
            "(1) Type is <class 'numpy.ndarray'>\n",
            "(2) Shape is (5,)\n",
            "(3) Values are: \n",
            "[0 1 2 3 4]\n",
            "\n"
          ]
        }
      ]
    },
    {
      "cell_type": "code",
      "source": [
        "w = np.tile(v, (1,3))\n",
        "print_np(w)\n",
        "#tile은 행렬은 그냥 반복해서 넣는것"
      ],
      "metadata": {
        "colab": {
          "base_uri": "https://localhost:8080/"
        },
        "id": "D8Hlfqp1uos4",
        "outputId": "58d9f0f9-c03a-4038-86e9-7facd872fd7b"
      },
      "execution_count": 110,
      "outputs": [
        {
          "output_type": "stream",
          "name": "stdout",
          "text": [
            "(1) Type is <class 'numpy.ndarray'>\n",
            "(2) Shape is (1, 15)\n",
            "(3) Values are: \n",
            "[[0 1 2 3 4 0 1 2 3 4 0 1 2 3 4]]\n",
            "\n"
          ]
        }
      ]
    },
    {
      "cell_type": "code",
      "source": [
        "import matplotlib.pyplot as plt\n",
        "%matplotlib inline\n",
        "print(\"PLOT READY\")"
      ],
      "metadata": {
        "colab": {
          "base_uri": "https://localhost:8080/"
        },
        "id": "o1PfgiXhuxxW",
        "outputId": "43aaedf3-a045-44d5-f773-1d0b359bdf43"
      },
      "execution_count": 111,
      "outputs": [
        {
          "output_type": "stream",
          "name": "stdout",
          "text": [
            "PLOT READY\n"
          ]
        }
      ]
    },
    {
      "cell_type": "code",
      "source": [
        "x = np.arange(0, 3*np.pi, 0.1)\n",
        "y = np.sin(x)\n",
        "\n",
        "plt.plot(x,y)\n",
        "plt.show()"
      ],
      "metadata": {
        "colab": {
          "base_uri": "https://localhost:8080/",
          "height": 265
        },
        "id": "TeePB8tpu9Kx",
        "outputId": "1ddf63e3-a47b-43da-fa53-701a4463e2f1"
      },
      "execution_count": 113,
      "outputs": [
        {
          "output_type": "display_data",
          "data": {
            "text/plain": [
              "<Figure size 432x288 with 1 Axes>"
            ],
            "image/png": "[encoded data removed]"
          },
          "metadata": {
            "needs_background": "light"
          }
        }
      ]
    },
    {
      "cell_type": "code",
      "source": [
        "y_sin = np.sin(x)\n",
        "y_cos = np.cos(x)\n",
        "\n",
        "plt.plot(x, y_sin)\n",
        "plt.plot(x, y_cos)\n",
        "plt.xlabel('x axis label')\n",
        "plt.ylabel('y axis label')\n",
        "plt.title('Sine and Cosine')\n",
        "plt.legend(['Sine', 'Cosine'])"
      ],
      "metadata": {
        "colab": {
          "base_uri": "https://localhost:8080/",
          "height": 313
        },
        "id": "AZuah4OHveJS",
        "outputId": "319b0618-4755-440b-b052-51cd1ada5570"
      },
      "execution_count": 115,
      "outputs": [
        {
          "output_type": "execute_result",
          "data": {
            "text/plain": [
              "<matplotlib.legend.Legend at 0x7f89f2c8e290>"
            ]
          },
          "metadata": {},
          "execution_count": 115
        },
        {
          "output_type": "display_data",
          "data": {
            "text/plain": [
              "<Figure size 432x288 with 1 Axes>"
            ],
            "image/png": "[encoded data removed]"
          },
          "metadata": {
            "needs_background": "light"
          }
        }
      ]
    },
    {
      "cell_type": "code",
      "source": [
        "x = np.arange(0, 3*np.pi, 0.1)\n",
        "y_sin = np.sin(x)\n",
        "y_cos = np.cos(x)\n",
        "\n",
        "# 1개의 그림안에 2개의 그림을 넣고 싶을 때\n",
        "plt.subplot(1,2,1)\n",
        "\n",
        "\n",
        "plt.plot(x, y_sin)\n",
        "plt.title('Sine')\n",
        "\n",
        "plt.subplot(1,2,2)\n",
        "plt.plot(x, y_cos)\n",
        "plt.title('Cosine')\n",
        "\n",
        "plt.show()\n"
      ],
      "metadata": {
        "colab": {
          "base_uri": "https://localhost:8080/",
          "height": 281
        },
        "id": "fHhu3rM5v91E",
        "outputId": "69ef8b49-a815-44cc-8758-06b1b46a4d80"
      },
      "execution_count": 116,
      "outputs": [
        {
          "output_type": "display_data",
          "data": {
            "text/plain": [
              "<Figure size 432x288 with 2 Axes>"
            ],
            "image/png": "[encoded data removed]"
          },
          "metadata": {
            "needs_background": "light"
          }
        }
      ]
    },
    {
      "cell_type": "code",
      "source": [
        "x = np.arange(0, 3*np.pi, 0.1)\n",
        "y_sin = np.sin(x)\n",
        "y_cos = np.cos(x)\n",
        "\n",
        "# 1개의 그림안에 2개의 그림을 넣고 싶을 때\n",
        "plt.subplot(2,1,1)\n",
        "\n",
        "\n",
        "plt.plot(x, y_sin)\n",
        "plt.title('Sine')\n",
        "\n",
        "plt.subplot(2,1,2)\n",
        "plt.plot(x, y_cos)\n",
        "plt.title('Cosine')\n",
        "\n",
        "plt.show()\n"
      ],
      "metadata": {
        "colab": {
          "base_uri": "https://localhost:8080/",
          "height": 281
        },
        "id": "1yW805OrweSf",
        "outputId": "7ae1afa4-720e-479e-d6ec-02dc5b95e9e5"
      },
      "execution_count": 117,
      "outputs": [
        {
          "output_type": "display_data",
          "data": {
            "text/plain": [
              "<Figure size 432x288 with 2 Axes>"
            ],
            "image/png": "[encoded data removed]"
          },
          "metadata": {
            "needs_background": "light"
          }
        }
      ]
    }
  ]
}